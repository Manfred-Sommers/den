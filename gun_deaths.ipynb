{
 "cells": [
  {
   "cell_type": "code",
   "execution_count": 8,
   "metadata": {
    "collapsed": false
   },
   "outputs": [
    {
     "name": "stdout",
     "output_type": "stream",
     "text": [
      "[['', 'year', 'month', 'intent', 'police', 'sex', 'age', 'race', 'hispanic', 'place', 'education'], ['1', '2012', '01', 'Suicide', '0', 'M', '34', 'Asian/Pacific Islander', '100', 'Home', '4'], ['2', '2012', '01', 'Suicide', '0', 'F', '21', 'White', '100', 'Street', '3'], ['3', '2012', '01', 'Suicide', '0', 'M', '60', 'White', '100', 'Other specified', '4'], ['4', '2012', '02', 'Suicide', '0', 'M', '64', 'White', '100', 'Home', '4']]\n"
     ]
    }
   ],
   "source": [
    "import csv\n",
    "data = list(csv.reader(open('guns.csv')))\n",
    "print(data[:5])"
   ]
  },
  {
   "cell_type": "code",
   "execution_count": 9,
   "metadata": {
    "collapsed": false,
    "scrolled": true
   },
   "outputs": [
    {
     "name": "stdout",
     "output_type": "stream",
     "text": [
      "['', 'year', 'month', 'intent', 'police', 'sex', 'age', 'race', 'hispanic', 'place', 'education']\n",
      "[['1', '2012', '01', 'Suicide', '0', 'M', '34', 'Asian/Pacific Islander', '100', 'Home', '4'], ['2', '2012', '01', 'Suicide', '0', 'F', '21', 'White', '100', 'Street', '3'], ['3', '2012', '01', 'Suicide', '0', 'M', '60', 'White', '100', 'Other specified', '4'], ['4', '2012', '02', 'Suicide', '0', 'M', '64', 'White', '100', 'Home', '4'], ['5', '2012', '02', 'Suicide', '0', 'M', '31', 'White', '100', 'Other specified', '2']]\n"
     ]
    }
   ],
   "source": [
    "headers = data[0]\n",
    "data = data[1:]\n",
    "print(headers)\n",
    "print(data[:5])"
   ]
  },
  {
   "cell_type": "code",
   "execution_count": 10,
   "metadata": {
    "collapsed": false
   },
   "outputs": [
    {
     "data": {
      "text/plain": [
       "{'2012': 33563, '2013': 33636, '2014': 33599}"
      ]
     },
     "execution_count": 10,
     "metadata": {},
     "output_type": "execute_result"
    }
   ],
   "source": [
    "years = list(d[1] for d in data)\n",
    "year_counts = {}\n",
    "for year in years:\n",
    "    if year not in year_counts:\n",
    "        year_counts[year] = 1\n",
    "    else: year_counts[year] += 1\n",
    "year_counts"
   ]
  },
  {
   "cell_type": "markdown",
   "metadata": {},
   "source": [
    "# Gun Deaths by Year  \n",
    "The number of gun deaths per year doesn't seem to have changed much inbetween 2012 and 2014."
   ]
  },
  {
   "cell_type": "code",
   "execution_count": 12,
   "metadata": {
    "collapsed": true
   },
   "outputs": [
    {
     "data": {
      "text/plain": [
       "[datetime.datetime(2012, 1, 1, 0, 0),\n",
       " datetime.datetime(2012, 1, 1, 0, 0),\n",
       " datetime.datetime(2012, 1, 1, 0, 0),\n",
       " datetime.datetime(2012, 2, 1, 0, 0),\n",
       " datetime.datetime(2012, 2, 1, 0, 0)]"
      ]
     },
     "execution_count": 12,
     "metadata": {},
     "output_type": "execute_result"
    }
   ],
   "source": [
    "import datetime \n",
    "dates = list(datetime.datetime(year = int(d[1]), month = int(d[2]), day = 1) for d in data)\n",
    "dates[:5]"
   ]
  },
  {
   "cell_type": "code",
   "execution_count": 37,
   "metadata": {
    "collapsed": true
   },
   "outputs": [
    {
     "data": {
      "text/plain": [
       "{datetime.datetime(2012, 1, 1, 0, 0): 2758,\n",
       " datetime.datetime(2012, 2, 1, 0, 0): 2357,\n",
       " datetime.datetime(2012, 3, 1, 0, 0): 2743,\n",
       " datetime.datetime(2012, 4, 1, 0, 0): 2795,\n",
       " datetime.datetime(2012, 5, 1, 0, 0): 2999,\n",
       " datetime.datetime(2012, 6, 1, 0, 0): 2826,\n",
       " datetime.datetime(2012, 7, 1, 0, 0): 3026,\n",
       " datetime.datetime(2012, 8, 1, 0, 0): 2954,\n",
       " datetime.datetime(2012, 9, 1, 0, 0): 2852,\n",
       " datetime.datetime(2012, 10, 1, 0, 0): 2733,\n",
       " datetime.datetime(2012, 11, 1, 0, 0): 2729,\n",
       " datetime.datetime(2012, 12, 1, 0, 0): 2791,\n",
       " datetime.datetime(2013, 1, 1, 0, 0): 2864,\n",
       " datetime.datetime(2013, 2, 1, 0, 0): 2375,\n",
       " datetime.datetime(2013, 3, 1, 0, 0): 2862,\n",
       " datetime.datetime(2013, 4, 1, 0, 0): 2798,\n",
       " datetime.datetime(2013, 5, 1, 0, 0): 2806,\n",
       " datetime.datetime(2013, 6, 1, 0, 0): 2920,\n",
       " datetime.datetime(2013, 7, 1, 0, 0): 3079,\n",
       " datetime.datetime(2013, 8, 1, 0, 0): 2859,\n",
       " datetime.datetime(2013, 9, 1, 0, 0): 2742,\n",
       " datetime.datetime(2013, 10, 1, 0, 0): 2808,\n",
       " datetime.datetime(2013, 11, 1, 0, 0): 2758,\n",
       " datetime.datetime(2013, 12, 1, 0, 0): 2765,\n",
       " datetime.datetime(2014, 1, 1, 0, 0): 2651,\n",
       " datetime.datetime(2014, 2, 1, 0, 0): 2361,\n",
       " datetime.datetime(2014, 3, 1, 0, 0): 2684,\n",
       " datetime.datetime(2014, 4, 1, 0, 0): 2862,\n",
       " datetime.datetime(2014, 5, 1, 0, 0): 2864,\n",
       " datetime.datetime(2014, 6, 1, 0, 0): 2931,\n",
       " datetime.datetime(2014, 7, 1, 0, 0): 2884,\n",
       " datetime.datetime(2014, 8, 1, 0, 0): 2970,\n",
       " datetime.datetime(2014, 9, 1, 0, 0): 2914,\n",
       " datetime.datetime(2014, 10, 1, 0, 0): 2865,\n",
       " datetime.datetime(2014, 11, 1, 0, 0): 2756,\n",
       " datetime.datetime(2014, 12, 1, 0, 0): 2857}"
      ]
     },
     "execution_count": 37,
     "metadata": {},
     "output_type": "execute_result"
    }
   ],
   "source": [
    "date_counts = {}\n",
    "for date in dates:\n",
    "    if date not in date_counts:\n",
    "        date_counts[date] = 1\n",
    "    else: date_counts[date] += 1"
   ]
  },
  {
   "cell_type": "code",
   "execution_count": 41,
   "metadata": {
    "collapsed": false
   },
   "outputs": [
    {
     "data": {
      "text/plain": [
       "{'April': 8455,\n",
       " 'August': 8783,\n",
       " 'December': 8413,\n",
       " 'February': 7093,\n",
       " 'January': 8273,\n",
       " 'July': 8989,\n",
       " 'June': 8677,\n",
       " 'March': 8289,\n",
       " 'May': 8669,\n",
       " 'November': 8243,\n",
       " 'October': 8406,\n",
       " 'September': 8508}"
      ]
     },
     "execution_count": 41,
     "metadata": {},
     "output_type": "execute_result"
    }
   ],
   "source": [
    "month_counts = {}\n",
    "for date, count in date_counts.items():\n",
    "    if date.strftime(\"%B\") not in month_counts:\n",
    "        month_counts[date.strftime('%B')] = date_counts[date]\n",
    "    else: month_counts[date.strftime('%B')] += date_counts[date]\n",
    "month_counts        "
   ]
  },
  {
   "cell_type": "markdown",
   "metadata": {},
   "source": [
    "# Gun Deaths by Month  \n",
    "The number of gun deaths was highest in the the month of July for both 2012 and 2013. If we add the total number of deaths that occured in each month over the three years, July has the highest occurance. This may be because American Independence day falls on the fourth of July and some of the shootings might have been politically motivated."
   ]
  },
  {
   "cell_type": "code",
   "execution_count": 40,
   "metadata": {
    "collapsed": false,
    "scrolled": true
   },
   "outputs": [
    {
     "data": {
      "text/plain": [
       "{'April': 2845,\n",
       " 'August': 3125,\n",
       " 'December': 3191,\n",
       " 'February': 2178,\n",
       " 'January': 2829,\n",
       " 'July': 3269,\n",
       " 'June': 3130,\n",
       " 'March': 2780,\n",
       " 'May': 2976,\n",
       " 'November': 2919,\n",
       " 'October': 2968,\n",
       " 'September': 2966}"
      ]
     },
     "execution_count": 40,
     "metadata": {},
     "output_type": "execute_result"
    }
   ],
   "source": [
    "month_homicide_count = {}\n",
    "for i, date in enumerate(dates):\n",
    "    if (data[i][3]=='Homicide' and \n",
    "        date.strftime(\"%B\") not in month_homicide_count):\n",
    "        month_homicide_count[date.strftime(\"%B\")] = 1\n",
    "    elif data[i][3]=='Homicide':\n",
    "         month_homicide_count[date.strftime(\"%B\")] += 1\n",
    "month_homicide_count        "
   ]
  },
  {
   "cell_type": "markdown",
   "metadata": {},
   "source": [
    "# Homicide by Month  \n",
    "When we look at the number of homicides per a month over the four years, we see that July still has the highest tally. The difference, however, is not remarkable.  This would indicate that there are a fair number of suicides in July as well.  This could possibly be as a result of people feeling lonely during Idependance celebrations or over the summer break. "
   ]
  },
  {
   "cell_type": "code",
   "execution_count": 15,
   "metadata": {
    "collapsed": false
   },
   "outputs": [
    {
     "data": {
      "text/plain": [
       "{'Female': 14449, 'Male': 86349}"
      ]
     },
     "execution_count": 15,
     "metadata": {},
     "output_type": "execute_result"
    }
   ],
   "source": [
    "sex_counts = {}\n",
    "sex_counts[\"Male\"] = 0\n",
    "sex_counts[\"Female\"] = 0\n",
    "for d in data:\n",
    "    if d[5]=='M': sex_counts[\"Male\"] += 1\n",
    "    elif d[5]=='F': sex_counts[\"Female\"] += 1\n",
    "sex_counts"
   ]
  },
  {
   "cell_type": "markdown",
   "metadata": {},
   "source": [
    "# Gun deaths by Gender  \n",
    "Surprisingly most of the gun deaths victims in the US are male. Although women are often the victims of violence because they are seen as soft targets, men are more likely to be involve in gang activity. Studies have also shown that men who commit suicide are more likely to use firearms while women generally prefer less violent means. "
   ]
  },
  {
   "cell_type": "code",
   "execution_count": 16,
   "metadata": {
    "collapsed": false
   },
   "outputs": [
    {
     "data": {
      "text/plain": [
       "{'Asian/Pacific Islander': 1326,\n",
       " 'Black': 23296,\n",
       " 'Hispanic': 9022,\n",
       " 'Native American/Native Alaskan': 917,\n",
       " 'White': 66237}"
      ]
     },
     "execution_count": 16,
     "metadata": {},
     "output_type": "execute_result"
    }
   ],
   "source": [
    "race_counts = {}\n",
    "for d in data:\n",
    "    if d[7] not in race_counts: race_counts[d[7]] = 1\n",
    "    else: race_counts[d[7]] += 1\n",
    "race_counts"
   ]
  },
  {
   "cell_type": "markdown",
   "metadata": {},
   "source": [
    "# Gun Deaths by Race  \n",
    "The largest number of gun death victims in the US are White, with Black victims coming in second place.  Because the largest Demographic group is White and the second largest is Black, this doesn't indicate that a particular group is being targeted. "
   ]
  },
  {
   "cell_type": "code",
   "execution_count": 18,
   "metadata": {
    "collapsed": false
   },
   "outputs": [
    {
     "name": "stdout",
     "output_type": "stream",
     "text": [
      "[['Id', 'Year', 'Id', 'Sex', 'Id', 'Hispanic Origin', 'Id', 'Id2', 'Geography', 'Total', 'Race Alone - White', 'Race Alone - Hispanic', 'Race Alone - Black or African American', 'Race Alone - American Indian and Alaska Native', 'Race Alone - Asian', 'Race Alone - Native Hawaiian and Other Pacific Islander', 'Two or More Races'], ['cen42010', 'April 1, 2010 Census', 'totsex', 'Both Sexes', 'tothisp', 'Total', '0100000US', '', 'United States', '308745538', '197318956', '44618105', '40250635', '3739506', '15159516', '674625', '6984195']]\n"
     ]
    }
   ],
   "source": [
    "census = list(csv.reader(open(\"census.csv\")))\n",
    "print(census)"
   ]
  },
  {
   "cell_type": "code",
   "execution_count": 22,
   "metadata": {
    "collapsed": false
   },
   "outputs": [
    {
     "data": {
      "text/plain": [
       "{'Asian/Pacific Islander': 8.374309664161762,\n",
       " 'Black': 57.877347773519595,\n",
       " 'Hispanic': 20.220491210910907,\n",
       " 'Native American/Native Alaskan': 24.521955573811088,\n",
       " 'White': 33.56849303419181}"
      ]
     },
     "execution_count": 22,
     "metadata": {},
     "output_type": "execute_result"
    }
   ],
   "source": [
    "mapping = {}\n",
    "mapping['Asian/Pacific Islander'] = int(census[1][14]) + int(census[1][15])\n",
    "mapping['Black'] = int(census[1][12])\n",
    "mapping['Native American/Native Alaskan'] = int(census[1][13])\n",
    "mapping['Hispanic'] = int(census[1][11])\n",
    "mapping['White'] = int(census[1][10])\n",
    "race_per_hundredk = {}\n",
    "for race in race_counts:\n",
    "    race_per_hundredk[race] = race_counts[race]*100000/mapping[race]\n",
    "race_per_hundredk"
   ]
  },
  {
   "cell_type": "markdown",
   "metadata": {},
   "source": [
    "# Gun Deaths per 100 000 by Race  \n",
    "It is interesting that when we take the population size into account, Blacks are now most likely to be victims of gun death, with Whites second, then native American and lastly Hispanic.  This may be related to poverty and living in crime ridden areas."
   ]
  },
  {
   "cell_type": "code",
   "execution_count": 31,
   "metadata": {
    "collapsed": false
   },
   "outputs": [
    {
     "data": {
      "text/plain": [
       "{'Asian/Pacific Islander': 3.5303462309701548,\n",
       " 'Black': 48.47128498718095,\n",
       " 'Hispanic': 12.627161104219912,\n",
       " 'Native American/Native Alaskan': 8.717729026240365,\n",
       " 'White': 4.6356417981453335}"
      ]
     },
     "execution_count": 31,
     "metadata": {},
     "output_type": "execute_result"
    }
   ],
   "source": [
    "intents = list(d[3] for d in data)\n",
    "races = list(d[7] for d in data)\n",
    "homicide_race_counts = {}\n",
    "for i, race in enumerate(races):\n",
    "    if intents[i]==\"Homicide\" and race not in homicide_race_counts:\n",
    "        homicide_race_counts[race] = 1\n",
    "    elif intents[i]==\"Homicide\": homicide_race_counts[race] += 1\n",
    "for race, count in homicide_race_counts.items():\n",
    "    homicide_race_counts[race] = count*100000/mapping[race]\n",
    "homicide_race_counts"
   ]
  },
  {
   "cell_type": "markdown",
   "metadata": {},
   "source": [
    "# Homicide per 100 000 by Race  \n",
    "When we filter the gun deaths to show the number of homicides only, per 100k by race, we see a very different result.  Black victims are still the majority, but now we see Hispanics and Whites having switched places.  This may be because many of the White gun deaths are suicides.  The Hispanics, however, many of whom are immigrants, may be more likely to get involved in gang activity. "
   ]
  },
  {
   "cell_type": "code",
   "execution_count": 42,
   "metadata": {
    "collapsed": false
   },
   "outputs": [
    {
     "data": {
      "text/plain": [
       "{'Female': 8689, 'Male': 54486}"
      ]
     },
     "execution_count": 42,
     "metadata": {},
     "output_type": "execute_result"
    }
   ],
   "source": [
    "gender_suicide = {}\n",
    "gender_suicide['Male'] = 0\n",
    "gender_suicide['Female'] = 0\n",
    "for d in data:\n",
    "    if d[3]=='Suicide' and d[5]=='M':\n",
    "        gender_suicide['Male'] += 1\n",
    "    elif d[3]=='Suicide' and d[5]=='F':\n",
    "        gender_suicide['Female'] += 1\n",
    "gender_suicide"
   ]
  },
  {
   "cell_type": "markdown",
   "metadata": {},
   "source": [
    "# Gender Suicide  \n",
    "Here we can clearly see that men are far more likely to use a firearm to commit suicide, while women would usually choose a less violent means.  Of the suicide victims, only about a seventh of them were female. "
   ]
  },
  {
   "cell_type": "code",
   "execution_count": 44,
   "metadata": {
    "collapsed": false
   },
   "outputs": [
    {
     "data": {
      "text/plain": [
       "{'Female': 218, 'Male': 1421}"
      ]
     },
     "execution_count": 44,
     "metadata": {},
     "output_type": "execute_result"
    }
   ],
   "source": [
    "gender_accident = {}\n",
    "gender_accident['Male'] = 0\n",
    "gender_accident['Female'] = 0\n",
    "for d in data:\n",
    "    if d[3]=='Accidental' and d[5]=='M':\n",
    "        gender_accident['Male'] += 1\n",
    "    elif d[3]=='Accidental' and d[5]=='F':\n",
    "        gender_accident['Female'] += 1\n",
    "gender_accident"
   ]
  },
  {
   "cell_type": "markdown",
   "metadata": {},
   "source": [
    "# Gender Accident  \n",
    "Women are definately the more cautious of the genders, with only about an eighth of accidental gun deaths vitims being female. "
   ]
  },
  {
   "cell_type": "code",
   "execution_count": 50,
   "metadata": {
    "collapsed": false
   },
   "outputs": [
    {
     "data": {
      "text/plain": [
       "OrderedDict([('College Graduate', 12946),\n",
       "             ('Some College', 21680),\n",
       "             ('High School Cerificate', 42927),\n",
       "             ('No High School Certificate', 21823)])"
      ]
     },
     "execution_count": 50,
     "metadata": {},
     "output_type": "execute_result"
    }
   ],
   "source": [
    "from collections import OrderedDict\n",
    "educ_counts = OrderedDict()\n",
    "for d in data:\n",
    "    if d[10]=='1' and 'No High School Certificate' not in educ_counts:\n",
    "        educ_counts['No High School Certificate'] = 1\n",
    "    elif d[10]=='1':\n",
    "        educ_counts['No High School Certificate'] += 1\n",
    "    elif d[10]=='2' and 'High School Cerificate' not in educ_counts:\n",
    "        educ_counts['High School Cerificate'] = 1\n",
    "    elif d[10]=='2':\n",
    "        educ_counts['High School Cerificate'] += 1\n",
    "    elif d[10]=='3' and 'Some College' not in educ_counts:\n",
    "        educ_counts['Some College'] = 1\n",
    "    elif d[10]=='3':\n",
    "        educ_counts['Some College'] += 1\n",
    "    elif d[10]=='4' and 'College Graduate' not in educ_counts:\n",
    "        educ_counts['College Graduate'] = 1\n",
    "    elif d[10]=='4':\n",
    "        educ_counts['College Graduate'] += 1\n",
    "educ_counts"
   ]
  },
  {
   "cell_type": "markdown",
   "metadata": {},
   "source": [
    "# Gun Deaths by Education  \n",
    "Most of the gun death victims have a High school certificate.  This may be because there are few Americans who don't have one. When we look at the gun death victims who have attended college and those who have graduated from college we see that there are progressively fewer of them.  Lets see what happens when we look at gun deaths per 100k of individuals in each group. "
   ]
  }
 ],
 "metadata": {
  "kernelspec": {
   "display_name": "Python 3",
   "language": "python",
   "name": "python3"
  },
  "language_info": {
   "codemirror_mode": {
    "name": "ipython",
    "version": 3
   },
   "file_extension": ".py",
   "mimetype": "text/x-python",
   "name": "python",
   "nbconvert_exporter": "python",
   "pygments_lexer": "ipython3",
   "version": "3.4.3"
  }
 },
 "nbformat": 4,
 "nbformat_minor": 0
}
